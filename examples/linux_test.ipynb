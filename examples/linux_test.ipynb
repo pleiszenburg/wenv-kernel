{
 "cells": [
  {
   "cell_type": "code",
   "execution_count": 1,
   "metadata": {},
   "outputs": [],
   "source": [
    "import ctypes, sys, platform"
   ]
  },
  {
   "cell_type": "code",
   "execution_count": 2,
   "metadata": {},
   "outputs": [
    {
     "data": {
      "text/plain": [
       "('Linux', '4.12.14-lp151.28.10-default')"
      ]
     },
     "execution_count": 2,
     "metadata": {},
     "output_type": "execute_result"
    }
   ],
   "source": [
    "uname = platform.uname()\n",
    "(uname.system, uname.release)"
   ]
  },
  {
   "cell_type": "code",
   "execution_count": 3,
   "metadata": {},
   "outputs": [
    {
     "data": {
      "text/plain": [
       "'3.7.4 (default, Jul 16 2019, 17:55:06) \\n[GCC 7.4.0]'"
      ]
     },
     "execution_count": 3,
     "metadata": {},
     "output_type": "execute_result"
    }
   ],
   "source": [
    "sys.version"
   ]
  },
  {
   "cell_type": "code",
   "execution_count": 4,
   "metadata": {},
   "outputs": [
    {
     "data": {
      "text/plain": [
       "('64bit', 'ELF')"
      ]
     },
     "execution_count": 4,
     "metadata": {},
     "output_type": "execute_result"
    }
   ],
   "source": [
    "platform.architecture()"
   ]
  },
  {
   "cell_type": "code",
   "execution_count": 5,
   "metadata": {},
   "outputs": [
    {
     "data": {
      "text/plain": [
       "'/home/ernst/Desktop/PROJEKTE/prj.ZUGBRUECKE/github.wenv-kernel/examples'"
      ]
     },
     "execution_count": 5,
     "metadata": {},
     "output_type": "execute_result"
    }
   ],
   "source": [
    "%pwd"
   ]
  },
  {
   "cell_type": "code",
   "execution_count": 6,
   "metadata": {},
   "outputs": [
    {
     "name": "stdout",
     "output_type": "stream",
     "text": [
      "insgesamt 36K\n",
      "drwxr-xr-x  3 ernst users    7  9. Dez 20:45 \u001b[0m\u001b[01;34m.\u001b[0m/\n",
      "drwxr-xr-x 12 ernst users   22  9. Dez 20:44 \u001b[01;34m..\u001b[0m/\n",
      "drwxr-xr-x  2 ernst users    4  9. Dez 20:45 \u001b[01;34m.ipynb_checkpoints\u001b[0m/\n",
      "-rw-r--r--  1 ernst users 1,6K 17. Nov 12:19 \u001b[00mlinux_frontend.ipynb\u001b[0m\n",
      "-rw-r--r--  1 ernst users 3,0K  9. Dez 20:45 \u001b[00mlinux_test.ipynb\u001b[0m\n",
      "-rw-r--r--  1 ernst users 1,7K  9. Dez 20:45 \u001b[00mwine_backend.ipynb\u001b[0m\n",
      "-rw-r--r--  1 ernst users 3,1K  9. Dez 20:44 \u001b[00mwine_test.ipynb\u001b[0m\n"
     ]
    }
   ],
   "source": [
    "%ls -lah"
   ]
  },
  {
   "cell_type": "code",
   "execution_count": 7,
   "metadata": {},
   "outputs": [
    {
     "data": {
      "text/plain": [
       "8"
      ]
     },
     "execution_count": 7,
     "metadata": {},
     "output_type": "execute_result"
    }
   ],
   "source": [
    "ctypes.sizeof(ctypes.c_long)"
   ]
  }
 ],
 "metadata": {
  "kernelspec": {
   "display_name": "Python 3",
   "language": "python",
   "name": "python3"
  },
  "language_info": {
   "codemirror_mode": {
    "name": "ipython",
    "version": 3
   },
   "file_extension": ".py",
   "mimetype": "text/x-python",
   "name": "python",
   "nbconvert_exporter": "python",
   "pygments_lexer": "ipython3",
   "version": "3.7.4"
  }
 },
 "nbformat": 4,
 "nbformat_minor": 4
}
