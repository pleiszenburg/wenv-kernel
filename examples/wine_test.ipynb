{
 "cells": [
  {
   "cell_type": "code",
   "execution_count": 1,
   "metadata": {},
   "outputs": [],
   "source": [
    "import ctypes, sys, platform"
   ]
  },
  {
   "cell_type": "code",
   "execution_count": 2,
   "metadata": {},
   "outputs": [
    {
     "data": {
      "text/plain": [
       "('Windows', 'XP')"
      ]
     },
     "execution_count": 2,
     "metadata": {},
     "output_type": "execute_result"
    }
   ],
   "source": [
    "uname = platform.uname()\n",
    "(uname.system, uname.release)"
   ]
  },
  {
   "cell_type": "code",
   "execution_count": 3,
   "metadata": {},
   "outputs": [
    {
     "data": {
      "text/plain": [
       "'3.7.4 (tags/v3.7.4:e09359112e, Jul  8 2019, 19:29:22) [MSC v.1916 32 bit (Intel)]'"
      ]
     },
     "execution_count": 3,
     "metadata": {},
     "output_type": "execute_result"
    }
   ],
   "source": [
    "sys.version"
   ]
  },
  {
   "cell_type": "code",
   "execution_count": 4,
   "metadata": {},
   "outputs": [
    {
     "data": {
      "text/plain": [
       "('32bit', 'WindowsPE')"
      ]
     },
     "execution_count": 4,
     "metadata": {},
     "output_type": "execute_result"
    }
   ],
   "source": [
    "platform.architecture()"
   ]
  },
  {
   "cell_type": "code",
   "execution_count": 5,
   "metadata": {},
   "outputs": [
    {
     "data": {
      "text/plain": [
       "'Z:\\\\home\\\\ernst\\\\Desktop\\\\PROJEKTE\\\\prj.ZUGBRUECKE\\\\github.wenv-kernel\\\\examples'"
      ]
     },
     "execution_count": 5,
     "metadata": {},
     "output_type": "execute_result"
    }
   ],
   "source": [
    "%pwd"
   ]
  },
  {
   "cell_type": "code",
   "execution_count": 6,
   "metadata": {},
   "outputs": [
    {
     "name": "stdout",
     "output_type": "stream",
     "text": [
      "Datentr„ger in Laufwerk Z hat keine Bezeichnung.\n",
      "Datentr„gernummer ist 0000-0000\n",
      "\n",
      "Directory of Z:\\home\\ernst\\Desktop\\PROJEKTE\\prj.ZUGBRUECKE\\github.wenv-kernel\\examples\n",
      "\n",
      "09.12.2019     20:46  <DIR>         .\n",
      "09.12.2019     20:44  <DIR>         ..\n",
      "17.11.2019     12:19         1,553  linux_frontend.ipynb\n",
      "09.12.2019     20:45         3,070  linux_test.ipynb\n",
      "09.12.2019     20:45         1,654  wine_backend.ipynb\n",
      "09.12.2019     20:46         3,144  wine_test.ipynb\n",
      "       4 files                    9,421 bytes\n",
      "       2 directories     26,403,405,824 bytes free\n",
      "\n"
     ]
    }
   ],
   "source": [
    "%ls"
   ]
  },
  {
   "cell_type": "code",
   "execution_count": 7,
   "metadata": {},
   "outputs": [
    {
     "data": {
      "text/plain": [
       "4"
      ]
     },
     "execution_count": 7,
     "metadata": {},
     "output_type": "execute_result"
    }
   ],
   "source": [
    "ctypes.sizeof(ctypes.c_long)"
   ]
  }
 ],
 "metadata": {
  "kernelspec": {
   "display_name": "wenv python 32bit",
   "language": "python",
   "name": "wenv_python3_32bit"
  },
  "language_info": {
   "codemirror_mode": {
    "name": "ipython",
    "version": 3
   },
   "file_extension": ".py",
   "mimetype": "text/x-python",
   "name": "python",
   "nbconvert_exporter": "python",
   "pygments_lexer": "ipython3",
   "version": "3.7.4"
  }
 },
 "nbformat": 4,
 "nbformat_minor": 4
}
